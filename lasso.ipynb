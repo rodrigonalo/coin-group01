{
 "cells": [
  {
   "cell_type": "code",
   "execution_count": 25,
   "metadata": {
    "vscode": {
     "languageId": "powershell"
    }
   },
   "outputs": [
    {
     "name": "stdout",
     "output_type": "stream",
     "text": [
      "Note: you may need to restart the kernel to use updated packages.\n"
     ]
    },
    {
     "name": "stderr",
     "output_type": "stream",
     "text": [
      "ERROR: unknown command \"intall\" - maybe you meant \"install\"\n",
      "\n"
     ]
    }
   ],
   "source": [
    "pip intall sklearn"
   ]
  },
  {
   "cell_type": "code",
   "execution_count": 1,
   "metadata": {},
   "outputs": [],
   "source": [
    "import pandas as pd\n",
    "from sklearn.linear_model import Lasso\n",
    "from sklearn.preprocessing import StandardScaler\n",
    "from sklearn.model_selection import train_test_split\n",
    "import numpy as np\n"
   ]
  },
  {
   "cell_type": "code",
   "execution_count": 2,
   "metadata": {},
   "outputs": [],
   "source": [
    "# Laoading Data\n",
    "data = pd.read_excel(\"3_individual_features_extended.xlsx\", header = 0)\n",
    "data.drop(columns = [\"id\"], inplace = True)     # drop id column\n",
    "shape_before = data.shape\n"
   ]
  },
  {
   "cell_type": "code",
   "execution_count": 3,
   "metadata": {},
   "outputs": [],
   "source": [
    "data = data.apply(lambda col: col.astype(float) if col.dtype == 'int64' else col) # convert to float where possible\n",
    "data = data.select_dtypes(include=['float64', 'float32'])                         # selecting only the float types\n",
    "shape_after = data.shape\n",
    "\n",
    "y = data[\"project\"]                             # split response\n",
    "X = data[data.columns.difference(['project'])]  # split predictor"
   ]
  },
  {
   "cell_type": "code",
   "execution_count": null,
   "metadata": {},
   "outputs": [
    {
     "name": "stdout",
     "output_type": "stream",
     "text": [
      "Number of Columns Removed due to type incompatability: 11\n"
     ]
    }
   ],
   "source": [
    "print(f\"Number of Columns Removed due to type incompatability: {shape_before[1] - shape_after[1]}\")\n",
    "print(\"For these a levels system will need to be built in\")"
   ]
  },
  {
   "cell_type": "code",
   "execution_count": 7,
   "metadata": {},
   "outputs": [
    {
     "name": "stdout",
     "output_type": "stream",
     "text": [
      "Selected features: [  0  13  18  21  25  44  48  63  64  69  76  77  79  83  86  99 105 111\n",
      " 112 124]\n",
      "Number of selected features: 20\n"
     ]
    }
   ],
   "source": [
    "X_train, X_test, y_train, y_test = train_test_split(X, y, test_size=0.2, random_state=42)\n",
    "\n",
    "# Scale the data (important for Lasso, since it's sensitive to feature scaling)\n",
    "scaler = StandardScaler()\n",
    "X_train_scaled = scaler.fit_transform(X_train)\n",
    "X_test_scaled = scaler.transform(X_test)\n",
    "\n",
    "# Apply Lasso with a regularization parameter (alpha)\n",
    "lasso = Lasso(alpha=0.1)  # You can tune alpha to see different levels of regularization\n",
    "lasso.fit(X_train_scaled, y_train)\n",
    "\n",
    "# Coefficients of the model\n",
    "coefficients = lasso.coef_\n",
    "\n",
    "# Display the non-zero features (selected features)\n",
    "selected_features = np.where(coefficients != 0)[0]\n",
    "print(\"Selected features:\", selected_features)\n",
    "\n",
    "# Number of features selected\n",
    "print(\"Number of selected features:\", len(selected_features))\n",
    "\n",
    "# Optionally, you can put the feature importances into a DataFrame for clarity\n",
    "feature_df = pd.DataFrame({\n",
    "    'Feature': range(X.shape[1]),\n",
    "    'Coefficient': coefficients\n",
    "})\n",
    "selected_feature_df = feature_df[feature_df['Coefficient'] != 0]\n",
    "#print(selected_feature_df)"
   ]
  },
  {
   "cell_type": "code",
   "execution_count": 11,
   "metadata": {},
   "outputs": [
    {
     "data": {
      "text/plain": [
       "Index(['indiv_spoken_time', 'max_turns_without_speaking_ratio',\n",
       "       'max_words_turn', 'speech_ang', 'text_anger', 'sentiment_avg',\n",
       "       'ALTERNATIVE_REALITIES_Treehugger', 'LIFESTYLES_Fitness',\n",
       "       'PERSONALITY_Journalist', 'EMOTIONS_Happy',\n",
       "       'Behavioral_Values_Fairness_Unfairness',\n",
       "       'Behavioral_Values_Fairness_Fairness', 'Groupflow_Leechflow',\n",
       "       'EMOTIONS_ALL_Anger', 'EMOTIONS_ALL_Disgust', 'recreational_perceived',\n",
       "       'A', 'purity_sanctity_score', 'dummy_question1', 'conservation'],\n",
       "      dtype='object')"
      ]
     },
     "execution_count": 11,
     "metadata": {},
     "output_type": "execute_result"
    }
   ],
   "source": [
    "data.columns[selected_features]"
   ]
  }
 ],
 "metadata": {
  "kernelspec": {
   "display_name": "Python 3",
   "language": "python",
   "name": "python3"
  },
  "language_info": {
   "codemirror_mode": {
    "name": "ipython",
    "version": 3
   },
   "file_extension": ".py",
   "mimetype": "text/x-python",
   "name": "python",
   "nbconvert_exporter": "python",
   "pygments_lexer": "ipython3",
   "version": "3.11.9"
  }
 },
 "nbformat": 4,
 "nbformat_minor": 2
}
