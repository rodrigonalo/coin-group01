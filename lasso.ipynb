{
 "cells": [
  {
   "cell_type": "code",
   "execution_count": 1,
   "metadata": {
    "vscode": {
     "languageId": "powershell"
    }
   },
   "outputs": [
    {
     "name": "stdout",
     "output_type": "stream",
     "text": [
      "Note: you may need to restart the kernel to use updated packages.\n"
     ]
    },
    {
     "name": "stderr",
     "output_type": "stream",
     "text": [
      "ERROR: unknown command \"intall\" - maybe you meant \"install\"\n",
      "\n"
     ]
    }
   ],
   "source": [
    "pip intall sklearn"
   ]
  },
  {
   "cell_type": "code",
   "execution_count": 2,
   "metadata": {},
   "outputs": [],
   "source": [
    "import pandas as pd\n",
    "from sklearn.linear_model import Lasso\n",
    "from sklearn.preprocessing import StandardScaler\n",
    "from sklearn.model_selection import train_test_split\n",
    "import numpy as np\n",
    "# bla bla test"
   ]
  },
  {
   "cell_type": "code",
   "execution_count": null,
   "metadata": {},
   "outputs": [],
   "source": [
    "# Laoading Data\n",
    "data = pd.read_excel(\"3_individual_features_extended.xlsx\", header = 0)\n",
    "data.drop(columns = [\"Unnamed: 0\"], inplace = True)     # drop id column\n",
    "shape_before = data.shape\n"
   ]
  },
  {
   "cell_type": "code",
   "execution_count": 6,
   "metadata": {},
   "outputs": [
    {
     "data": {
      "text/html": [
       "<div>\n",
       "<style scoped>\n",
       "    .dataframe tbody tr th:only-of-type {\n",
       "        vertical-align: middle;\n",
       "    }\n",
       "\n",
       "    .dataframe tbody tr th {\n",
       "        vertical-align: top;\n",
       "    }\n",
       "\n",
       "    .dataframe thead th {\n",
       "        text-align: right;\n",
       "    }\n",
       "</style>\n",
       "<table border=\"1\" class=\"dataframe\">\n",
       "  <thead>\n",
       "    <tr style=\"text-align: right;\">\n",
       "      <th></th>\n",
       "      <th>indiv_spoken_time</th>\n",
       "      <th>indiv_spoken_time_ratio</th>\n",
       "      <th>average_turn_duration</th>\n",
       "      <th>average_turn_duration_ratio</th>\n",
       "      <th>avg_time_without_speaking</th>\n",
       "      <th>avg_time_without_speaking_ratio</th>\n",
       "      <th>max_time_without_speaking</th>\n",
       "      <th>max_time_without_speaking_ratio</th>\n",
       "      <th>num_turns</th>\n",
       "      <th>num_turns_ratio</th>\n",
       "      <th>...</th>\n",
       "      <th>q6</th>\n",
       "      <th>q7</th>\n",
       "      <th>q8</th>\n",
       "      <th>q9</th>\n",
       "      <th>q10</th>\n",
       "      <th>conservation</th>\n",
       "      <th>transcendence</th>\n",
       "      <th>theory</th>\n",
       "      <th>coeval</th>\n",
       "      <th>project</th>\n",
       "    </tr>\n",
       "  </thead>\n",
       "  <tbody>\n",
       "    <tr>\n",
       "      <th>0</th>\n",
       "      <td>526</td>\n",
       "      <td>0.148336</td>\n",
       "      <td>7.850746</td>\n",
       "      <td>0.126865</td>\n",
       "      <td>56.210746</td>\n",
       "      <td>0.165958</td>\n",
       "      <td>451.54</td>\n",
       "      <td>0.264343</td>\n",
       "      <td>67</td>\n",
       "      <td>0.331683</td>\n",
       "      <td>...</td>\n",
       "      <td>4</td>\n",
       "      <td>5</td>\n",
       "      <td>7</td>\n",
       "      <td>8</td>\n",
       "      <td>7</td>\n",
       "      <td>2.57</td>\n",
       "      <td>-1.78</td>\n",
       "      <td>3.44</td>\n",
       "      <td>0.90</td>\n",
       "      <td>8.0</td>\n",
       "    </tr>\n",
       "    <tr>\n",
       "      <th>1</th>\n",
       "      <td>2648</td>\n",
       "      <td>0.746757</td>\n",
       "      <td>33.948718</td>\n",
       "      <td>0.548598</td>\n",
       "      <td>21.791169</td>\n",
       "      <td>0.064337</td>\n",
       "      <td>109.24</td>\n",
       "      <td>0.063952</td>\n",
       "      <td>78</td>\n",
       "      <td>0.386139</td>\n",
       "      <td>...</td>\n",
       "      <td>8</td>\n",
       "      <td>8</td>\n",
       "      <td>0</td>\n",
       "      <td>5</td>\n",
       "      <td>4</td>\n",
       "      <td>-0.24</td>\n",
       "      <td>-0.33</td>\n",
       "      <td>3.64</td>\n",
       "      <td>0.91</td>\n",
       "      <td>8.0</td>\n",
       "    </tr>\n",
       "    <tr>\n",
       "      <th>2</th>\n",
       "      <td>105</td>\n",
       "      <td>0.029611</td>\n",
       "      <td>8.076923</td>\n",
       "      <td>0.130520</td>\n",
       "      <td>57.649231</td>\n",
       "      <td>0.170205</td>\n",
       "      <td>141.72</td>\n",
       "      <td>0.082966</td>\n",
       "      <td>13</td>\n",
       "      <td>0.064356</td>\n",
       "      <td>...</td>\n",
       "      <td>8</td>\n",
       "      <td>6</td>\n",
       "      <td>3</td>\n",
       "      <td>2</td>\n",
       "      <td>6</td>\n",
       "      <td>-0.52</td>\n",
       "      <td>-2.03</td>\n",
       "      <td>3.98</td>\n",
       "      <td>0.90</td>\n",
       "      <td>8.0</td>\n",
       "    </tr>\n",
       "    <tr>\n",
       "      <th>3</th>\n",
       "      <td>162</td>\n",
       "      <td>0.045685</td>\n",
       "      <td>6.480000</td>\n",
       "      <td>0.104714</td>\n",
       "      <td>159.421600</td>\n",
       "      <td>0.470679</td>\n",
       "      <td>836.46</td>\n",
       "      <td>0.489685</td>\n",
       "      <td>25</td>\n",
       "      <td>0.123762</td>\n",
       "      <td>...</td>\n",
       "      <td>6</td>\n",
       "      <td>6</td>\n",
       "      <td>2</td>\n",
       "      <td>4</td>\n",
       "      <td>7</td>\n",
       "      <td>0.42</td>\n",
       "      <td>-2.04</td>\n",
       "      <td>4.22</td>\n",
       "      <td>0.90</td>\n",
       "      <td>8.0</td>\n",
       "    </tr>\n",
       "    <tr>\n",
       "      <th>4</th>\n",
       "      <td>105</td>\n",
       "      <td>0.029611</td>\n",
       "      <td>5.526316</td>\n",
       "      <td>0.089303</td>\n",
       "      <td>43.632632</td>\n",
       "      <td>0.128822</td>\n",
       "      <td>169.20</td>\n",
       "      <td>0.099054</td>\n",
       "      <td>19</td>\n",
       "      <td>0.094059</td>\n",
       "      <td>...</td>\n",
       "      <td>4</td>\n",
       "      <td>4</td>\n",
       "      <td>1</td>\n",
       "      <td>5</td>\n",
       "      <td>7</td>\n",
       "      <td>0.73</td>\n",
       "      <td>-1.48</td>\n",
       "      <td>3.74</td>\n",
       "      <td>0.91</td>\n",
       "      <td>8.0</td>\n",
       "    </tr>\n",
       "  </tbody>\n",
       "</table>\n",
       "<p>5 rows × 140 columns</p>\n",
       "</div>"
      ],
      "text/plain": [
       "   indiv_spoken_time  indiv_spoken_time_ratio  average_turn_duration  \\\n",
       "0                526                 0.148336               7.850746   \n",
       "1               2648                 0.746757              33.948718   \n",
       "2                105                 0.029611               8.076923   \n",
       "3                162                 0.045685               6.480000   \n",
       "4                105                 0.029611               5.526316   \n",
       "\n",
       "   average_turn_duration_ratio  avg_time_without_speaking  \\\n",
       "0                     0.126865                  56.210746   \n",
       "1                     0.548598                  21.791169   \n",
       "2                     0.130520                  57.649231   \n",
       "3                     0.104714                 159.421600   \n",
       "4                     0.089303                  43.632632   \n",
       "\n",
       "   avg_time_without_speaking_ratio  max_time_without_speaking  \\\n",
       "0                         0.165958                     451.54   \n",
       "1                         0.064337                     109.24   \n",
       "2                         0.170205                     141.72   \n",
       "3                         0.470679                     836.46   \n",
       "4                         0.128822                     169.20   \n",
       "\n",
       "   max_time_without_speaking_ratio  num_turns  num_turns_ratio  ...  q6  q7  \\\n",
       "0                         0.264343         67         0.331683  ...   4   5   \n",
       "1                         0.063952         78         0.386139  ...   8   8   \n",
       "2                         0.082966         13         0.064356  ...   8   6   \n",
       "3                         0.489685         25         0.123762  ...   6   6   \n",
       "4                         0.099054         19         0.094059  ...   4   4   \n",
       "\n",
       "   q8  q9  q10  conservation  transcendence  theory  coeval  project  \n",
       "0   7   8    7          2.57          -1.78    3.44    0.90      8.0  \n",
       "1   0   5    4         -0.24          -0.33    3.64    0.91      8.0  \n",
       "2   3   2    6         -0.52          -2.03    3.98    0.90      8.0  \n",
       "3   2   4    7          0.42          -2.04    4.22    0.90      8.0  \n",
       "4   1   5    7          0.73          -1.48    3.74    0.91      8.0  \n",
       "\n",
       "[5 rows x 140 columns]"
      ]
     },
     "execution_count": 6,
     "metadata": {},
     "output_type": "execute_result"
    }
   ],
   "source": [
    "data.head()"
   ]
  },
  {
   "cell_type": "code",
   "execution_count": 3,
   "metadata": {},
   "outputs": [],
   "source": [
    "data = data.apply(lambda col: col.astype(float) if col.dtype == 'int64' else col) # convert to float where possible\n",
    "data = data.select_dtypes(include=['float64', 'float32'])                         # selecting only the float types\n",
    "shape_after = data.shape\n",
    "\n",
    "y = data[\"project\"]                             # split response\n",
    "X = data[data.columns.difference(['project'])]  # split predictor"
   ]
  },
  {
   "cell_type": "code",
   "execution_count": null,
   "metadata": {},
   "outputs": [
    {
     "name": "stdout",
     "output_type": "stream",
     "text": [
      "Number of Columns Removed due to type incompatability: 11\n"
     ]
    }
   ],
   "source": [
    "print(f\"Number of Columns Removed due to type incompatability: {shape_before[1] - shape_after[1]}\")\n",
    "print(\"For these a levels system will need to be built in\")"
   ]
  },
  {
   "cell_type": "code",
   "execution_count": 7,
   "metadata": {},
   "outputs": [
    {
     "name": "stdout",
     "output_type": "stream",
     "text": [
      "Selected features: [  0  13  18  21  25  44  48  63  64  69  76  77  79  83  86  99 105 111\n",
      " 112 124]\n",
      "Number of selected features: 20\n"
     ]
    }
   ],
   "source": [
    "X_train, X_test, y_train, y_test = train_test_split(X, y, test_size=0.2, random_state=42)\n",
    "\n",
    "# Scale the data (important for Lasso, since it's sensitive to feature scaling)\n",
    "scaler = StandardScaler()\n",
    "X_train_scaled = scaler.fit_transform(X_train)\n",
    "X_test_scaled = scaler.transform(X_test)\n",
    "\n",
    "# Apply Lasso with a regularization parameter (alpha)\n",
    "lasso = Lasso(alpha=0.1)  # You can tune alpha to see different levels of regularization\n",
    "lasso.fit(X_train_scaled, y_train)\n",
    "\n",
    "# Coefficients of the model\n",
    "coefficients = lasso.coef_\n",
    "\n",
    "# Display the non-zero features (selected features)\n",
    "selected_features = np.where(coefficients != 0)[0]\n",
    "print(\"Selected features:\", selected_features)\n",
    "\n",
    "# Number of features selected\n",
    "print(\"Number of selected features:\", len(selected_features))\n",
    "\n",
    "# Optionally, you can put the feature importances into a DataFrame for clarity\n",
    "feature_df = pd.DataFrame({\n",
    "    'Feature': range(X.shape[1]),\n",
    "    'Coefficient': coefficients\n",
    "})\n",
    "selected_feature_df = feature_df[feature_df['Coefficient'] != 0]\n",
    "#print(selected_feature_df)"
   ]
  },
  {
   "cell_type": "code",
   "execution_count": 11,
   "metadata": {},
   "outputs": [
    {
     "data": {
      "text/plain": [
       "Index(['indiv_spoken_time', 'max_turns_without_speaking_ratio',\n",
       "       'max_words_turn', 'speech_ang', 'text_anger', 'sentiment_avg',\n",
       "       'ALTERNATIVE_REALITIES_Treehugger', 'LIFESTYLES_Fitness',\n",
       "       'PERSONALITY_Journalist', 'EMOTIONS_Happy',\n",
       "       'Behavioral_Values_Fairness_Unfairness',\n",
       "       'Behavioral_Values_Fairness_Fairness', 'Groupflow_Leechflow',\n",
       "       'EMOTIONS_ALL_Anger', 'EMOTIONS_ALL_Disgust', 'recreational_perceived',\n",
       "       'A', 'purity_sanctity_score', 'dummy_question1', 'conservation'],\n",
       "      dtype='object')"
      ]
     },
     "execution_count": 11,
     "metadata": {},
     "output_type": "execute_result"
    }
   ],
   "source": [
    "data.columns[selected_features]"
   ]
  }
 ],
 "metadata": {
  "kernelspec": {
   "display_name": "Python 3",
   "language": "python",
   "name": "python3"
  },
  "language_info": {
   "codemirror_mode": {
    "name": "ipython",
    "version": 3
   },
   "file_extension": ".py",
   "mimetype": "text/x-python",
   "name": "python",
   "nbconvert_exporter": "python",
   "pygments_lexer": "ipython3",
   "version": "3.11.9"
  }
 },
 "nbformat": 4,
 "nbformat_minor": 2
}
